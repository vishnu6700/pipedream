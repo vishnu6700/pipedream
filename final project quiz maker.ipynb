{
 "cells": [
  {
   "cell_type": "code",
   "execution_count": null,
   "id": "246dbebf",
   "metadata": {},
   "outputs": [],
   "source": [
    "from random import choice\n",
    "import random\n",
    "\n",
    "class Question:\n",
    "     def __init__(self,prompt,answer):\n",
    "            self.prompt = prompt\n",
    "            self.answer = answer\n",
    "         \n",
    "            \n",
    "            \n",
    "question_prompts =open (\"andy.txt\", \"r\") \n",
    "content = question_prompts.read()\n",
    "\n",
    "\n",
    "questions = [\n",
    "    Question(content[1:355],\"a\"),\n",
    "    Question(content[355:684],\"b\"),\n",
    "    Question(content[684:1019],\"c\"),\n",
    "    Question(content[1019:1259],\"a\"),\n",
    "    Question(content[1259:1541],\"a\"),\n",
    "    Question(content[1541:2008],\"b\"),\n",
    "    Question(content[2008:2355],\"a\"),\n",
    "    Question(content[2355:2679],\"c\"),\n",
    "    Question(content[2679:2891],\"c\"),\n",
    "    Question(content[2891:3289],\"b\"), \n",
    "]                          \n",
    "random.shuffle(questions)\n",
    "             \n",
    "\n",
    "def run_quiz(questions):\n",
    "    score=0\n",
    "    for question in questions:\n",
    "        answer= input(question.prompt)\n",
    "        if answer == question.answer:\n",
    "             score += 1\n",
    "    print(\"you got\", score, \"out of\", len(questions))\n",
    "run_quiz(questions)"
   ]
  }
 ],
 "metadata": {
  "kernelspec": {
   "display_name": "Python 3 (ipykernel)",
   "language": "python",
   "name": "python3"
  },
  "language_info": {
   "codemirror_mode": {
    "name": "ipython",
    "version": 3
   },
   "file_extension": ".py",
   "mimetype": "text/x-python",
   "name": "python",
   "nbconvert_exporter": "python",
   "pygments_lexer": "ipython3",
   "version": "3.10.1"
  }
 },
 "nbformat": 4,
 "nbformat_minor": 5
}
